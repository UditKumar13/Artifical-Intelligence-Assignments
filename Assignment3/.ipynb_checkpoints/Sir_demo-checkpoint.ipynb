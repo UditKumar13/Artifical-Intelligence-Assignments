{
 "cells": [
  {
   "cell_type": "code",
   "execution_count": null,
   "metadata": {
    "colab": {
     "base_uri": "https://localhost:8080/"
    },
    "id": "-Oo7Y7mSpgMV",
    "outputId": "f48c29cd-f96e-41a0-8cca-76489b6e7774"
   },
   "outputs": [
    {
     "name": "stdout",
     "output_type": "stream",
     "text": [
      "Collecting durable-rules\n",
      "  Downloading durable_rules-2.0.28.tar.gz (57 kB)\n",
      "\u001b[?25l\r",
      "\u001b[K     |█████▊                          | 10 kB 21.8 MB/s eta 0:00:01\r",
      "\u001b[K     |███████████▍                    | 20 kB 24.7 MB/s eta 0:00:01\r",
      "\u001b[K     |█████████████████               | 30 kB 29.1 MB/s eta 0:00:01\r",
      "\u001b[K     |██████████████████████▊         | 40 kB 21.4 MB/s eta 0:00:01\r",
      "\u001b[K     |████████████████████████████▌   | 51 kB 17.1 MB/s eta 0:00:01\r",
      "\u001b[K     |████████████████████████████████| 57 kB 1.8 MB/s \n",
      "\u001b[?25hBuilding wheels for collected packages: durable-rules\n",
      "  Building wheel for durable-rules (setup.py) ... \u001b[?25l\u001b[?25hdone\n",
      "  Created wheel for durable-rules: filename=durable_rules-2.0.28-cp37-cp37m-linux_x86_64.whl size=176384 sha256=156b8e359bab10570a33bd5e3b862e6ad6aee4116348ae64114ecdf4d2688be8\n",
      "  Stored in directory: /root/.cache/pip/wheels/95/83/aa/1f9f65309b49e04f691d488c63c0aafaee273e370d8a0c2b36\n",
      "Successfully built durable-rules\n",
      "Installing collected packages: durable-rules\n",
      "Successfully installed durable-rules-2.0.28\n"
     ]
    }
   ],
   "source": [
    "pip install durable-rules"
   ]
  },
  {
   "cell_type": "code",
   "execution_count": null,
   "metadata": {
    "colab": {
     "base_uri": "https://localhost:8080/",
     "height": 352
    },
    "id": "njFo-JYypL1o",
    "outputId": "6bf3b730-03eb-4710-f947-ece8d4511db4"
   },
   "outputs": [
    {
     "ename": "Exception",
     "evalue": "ignored",
     "output_type": "error",
     "traceback": [
      "\u001b[0;31m---------------------------------------------------------------------------\u001b[0m",
      "\u001b[0;31mException\u001b[0m                                 Traceback (most recent call last)",
      "\u001b[0;32m<ipython-input-5-d79fc952415e>\u001b[0m in \u001b[0;36m<module>\u001b[0;34m()\u001b[0m\n\u001b[1;32m     63\u001b[0m \u001b[0;34m\u001b[0m\u001b[0m\n\u001b[1;32m     64\u001b[0m \u001b[0;34m\u001b[0m\u001b[0m\n\u001b[0;32m---> 65\u001b[0;31m \u001b[0massert_fact\u001b[0m\u001b[0;34m(\u001b[0m\u001b[0;34m'interests'\u001b[0m\u001b[0;34m,\u001b[0m \u001b[0;34m{\u001b[0m \u001b[0;34m'area'\u001b[0m\u001b[0;34m:\u001b[0m \u001b[0;34m'human-like-conversations'\u001b[0m\u001b[0;34m,\u001b[0m \u001b[0;34m'type'\u001b[0m\u001b[0;34m:\u001b[0m \u001b[0;34m'theory'\u001b[0m \u001b[0;34m}\u001b[0m\u001b[0;34m)\u001b[0m\u001b[0;34m\u001b[0m\u001b[0;34m\u001b[0m\u001b[0m\n\u001b[0m",
      "\u001b[0;32m/usr/local/lib/python3.7/dist-packages/durable/lang.py\u001b[0m in \u001b[0;36massert_fact\u001b[0;34m(ruleset_name, fact, complete)\u001b[0m\n\u001b[1;32m    674\u001b[0m \u001b[0;34m\u001b[0m\u001b[0m\n\u001b[1;32m    675\u001b[0m \u001b[0;32mdef\u001b[0m \u001b[0massert_fact\u001b[0m\u001b[0;34m(\u001b[0m\u001b[0mruleset_name\u001b[0m\u001b[0;34m,\u001b[0m \u001b[0mfact\u001b[0m\u001b[0;34m,\u001b[0m \u001b[0mcomplete\u001b[0m \u001b[0;34m=\u001b[0m \u001b[0;32mNone\u001b[0m\u001b[0;34m)\u001b[0m\u001b[0;34m:\u001b[0m\u001b[0;34m\u001b[0m\u001b[0;34m\u001b[0m\u001b[0m\n\u001b[0;32m--> 676\u001b[0;31m     \u001b[0;32mreturn\u001b[0m \u001b[0mget_host\u001b[0m\u001b[0;34m(\u001b[0m\u001b[0;34m)\u001b[0m\u001b[0;34m.\u001b[0m\u001b[0massert_fact\u001b[0m\u001b[0;34m(\u001b[0m\u001b[0mruleset_name\u001b[0m\u001b[0;34m,\u001b[0m \u001b[0mfact\u001b[0m\u001b[0;34m,\u001b[0m \u001b[0mcomplete\u001b[0m\u001b[0;34m)\u001b[0m\u001b[0;34m\u001b[0m\u001b[0;34m\u001b[0m\u001b[0m\n\u001b[0m\u001b[1;32m    677\u001b[0m \u001b[0;34m\u001b[0m\u001b[0m\n\u001b[1;32m    678\u001b[0m \u001b[0;32mdef\u001b[0m \u001b[0massert_facts\u001b[0m\u001b[0;34m(\u001b[0m\u001b[0mruleset_name\u001b[0m\u001b[0;34m,\u001b[0m \u001b[0mfacts\u001b[0m\u001b[0;34m,\u001b[0m \u001b[0mcomplete\u001b[0m \u001b[0;34m=\u001b[0m \u001b[0;32mNone\u001b[0m\u001b[0;34m)\u001b[0m\u001b[0;34m:\u001b[0m\u001b[0;34m\u001b[0m\u001b[0;34m\u001b[0m\u001b[0m\n",
      "\u001b[0;32m/usr/local/lib/python3.7/dist-packages/durable/lang.py\u001b[0m in \u001b[0;36mget_host\u001b[0;34m()\u001b[0m\n\u001b[1;32m    661\u001b[0m             \u001b[0mruleset_definitions\u001b[0m\u001b[0;34m[\u001b[0m\u001b[0mfull_name\u001b[0m\u001b[0;34m]\u001b[0m \u001b[0;34m=\u001b[0m \u001b[0mruleset_definition\u001b[0m\u001b[0;34m\u001b[0m\u001b[0;34m\u001b[0m\u001b[0m\n\u001b[1;32m    662\u001b[0m \u001b[0;34m\u001b[0m\u001b[0m\n\u001b[0;32m--> 663\u001b[0;31m         \u001b[0m_main_host\u001b[0m\u001b[0;34m.\u001b[0m\u001b[0mregister_rulesets\u001b[0m\u001b[0;34m(\u001b[0m\u001b[0mruleset_definitions\u001b[0m\u001b[0;34m)\u001b[0m\u001b[0;34m\u001b[0m\u001b[0;34m\u001b[0m\u001b[0m\n\u001b[0m\u001b[1;32m    664\u001b[0m     \u001b[0;32mfinally\u001b[0m\u001b[0;34m:\u001b[0m\u001b[0;34m\u001b[0m\u001b[0;34m\u001b[0m\u001b[0m\n\u001b[1;32m    665\u001b[0m         \u001b[0m_rulesets\u001b[0m \u001b[0;34m=\u001b[0m \u001b[0;34m{\u001b[0m\u001b[0;34m}\u001b[0m\u001b[0;34m\u001b[0m\u001b[0;34m\u001b[0m\u001b[0m\n",
      "\u001b[0;32m/usr/local/lib/python3.7/dist-packages/durable/engine.py\u001b[0m in \u001b[0;36mregister_rulesets\u001b[0;34m(self, ruleset_definitions)\u001b[0m\n\u001b[1;32m    888\u001b[0m         \u001b[0;32mfor\u001b[0m \u001b[0mruleset_name\u001b[0m\u001b[0;34m,\u001b[0m \u001b[0mruleset\u001b[0m \u001b[0;32min\u001b[0m \u001b[0mrulesets\u001b[0m\u001b[0;34m.\u001b[0m\u001b[0mitems\u001b[0m\u001b[0;34m(\u001b[0m\u001b[0;34m)\u001b[0m\u001b[0;34m:\u001b[0m\u001b[0;34m\u001b[0m\u001b[0;34m\u001b[0m\u001b[0m\n\u001b[1;32m    889\u001b[0m             \u001b[0;32mif\u001b[0m \u001b[0mruleset_name\u001b[0m \u001b[0;32min\u001b[0m \u001b[0mself\u001b[0m\u001b[0;34m.\u001b[0m\u001b[0m_ruleset_directory\u001b[0m\u001b[0;34m:\u001b[0m\u001b[0;34m\u001b[0m\u001b[0;34m\u001b[0m\u001b[0m\n\u001b[0;32m--> 890\u001b[0;31m                 \u001b[0;32mraise\u001b[0m \u001b[0mException\u001b[0m\u001b[0;34m(\u001b[0m\u001b[0;34m'Ruleset with name {0} already registered'\u001b[0m\u001b[0;34m.\u001b[0m\u001b[0mformat\u001b[0m\u001b[0;34m(\u001b[0m\u001b[0mruleset_name\u001b[0m\u001b[0;34m)\u001b[0m\u001b[0;34m)\u001b[0m\u001b[0;34m\u001b[0m\u001b[0;34m\u001b[0m\u001b[0m\n\u001b[0m\u001b[1;32m    891\u001b[0m             \u001b[0;32melse\u001b[0m\u001b[0;34m:\u001b[0m\u001b[0;34m\u001b[0m\u001b[0;34m\u001b[0m\u001b[0m\n\u001b[1;32m    892\u001b[0m                 \u001b[0mself\u001b[0m\u001b[0;34m.\u001b[0m\u001b[0m_ruleset_directory\u001b[0m\u001b[0;34m[\u001b[0m\u001b[0mruleset_name\u001b[0m\u001b[0;34m]\u001b[0m \u001b[0;34m=\u001b[0m \u001b[0mruleset\u001b[0m\u001b[0;34m\u001b[0m\u001b[0;34m\u001b[0m\u001b[0m\n",
      "\u001b[0;31mException\u001b[0m: Ruleset with name interests already registered"
     ]
    }
   ],
   "source": [
    "# forward chaining rule engine\n",
    "# trying out durable rules engine\n",
    "#\n",
    "from durable.lang import *\n",
    "\n",
    "with ruleset('interests'):\n",
    "    # will be triggered by 'interests' facts\n",
    "    @when_all((m.area == 'human-like-conversations') & (m.type == 'notheory') )\n",
    "    def hci(c):\n",
    "        c.assert_fact('skills', { 'field': 'probability' })\n",
    "        c.assert_fact({ 'subject': 'choose', 'predicate': 'elective', 'object': 'natural language processing' })\n",
    "        \n",
    "    @when_all((m.area == 'human-like-conversations') & (m.type == 'theory') )\n",
    "    def hci(c):\n",
    "        c.assert_fact('skills', { 'field': 'probability' })\n",
    "     \n",
    "        c.assert_fact('preferences', { 'type': 'nltheory' })\n",
    "        c.assert_fact({ 'subject': 'choose', 'predicate': 'elective', 'object': 'natural language processing' })\n",
    "\n",
    "    @when_all((m.area == 'human-like-interactions') & (m.type == 'theory') )\n",
    "    def rob(c):\n",
    "        c.assert_fact('skills', { 'field': 'ai-ml' })\n",
    "        c.assert_fact({ 'subject': 'choose', 'predicate': 'elective', 'object': 'robotics' })\n",
    "        c.assert_fact('preferences', { 'type': 'mltheory' })\n",
    "\n",
    "    @when_all((m.area == 'human-like-interactions') & (m.type == 'notheory') )\n",
    "    def rob(c):\n",
    "        c.assert_fact('skills', { 'field': 'ai-ml' })\n",
    "        c.assert_fact({ 'subject': 'choose', 'predicate': 'elective', 'object': 'robotics' })\n",
    "\n",
    "    @when_all(+m.subject)\n",
    "    def output(c):\n",
    "        print('Fact: {0} {1} {2}'.format(c.m.subject, c.m.predicate, c.m.object))\n",
    "\n",
    "\n",
    "with ruleset('skills'):\n",
    "    @when_all((m.field == 'probability'))\n",
    "    def mathc(d):\n",
    "        d.assert_fact({ 'subject': 'take Probability and Statistics course' })\n",
    "\n",
    "    @when_all((m.field == 'ai-ml'))\n",
    "    def mathc(d):\n",
    "        d.assert_fact({ 'subject': 'take AI course' })\n",
    "        d.assert_fact({ 'subject': 'take ML course' })\n",
    "        d.assert_fact( {'subject': 'take DL course' })\n",
    "\n",
    "    @when_all(+m.subject)\n",
    "    def output(d):\n",
    "        print('Fact: {0}'.format(d.m.subject))\n",
    "\n",
    "with ruleset('preferences'):\n",
    "    @when_all((m.type == 'mltheory'))\n",
    "    def mathct(e):\n",
    "        e.assert_fact({ 'subject': 'take DL theory course'})\n",
    "\n",
    "    @when_all((m.type == 'nltheory'))\n",
    "    def mathct(e):\n",
    "        e.assert_fact({ 'subject': 'take NLP foundations course'})\n",
    "\n",
    "\n",
    "    @when_all(+m.subject)\n",
    "    def output(c):\n",
    "        print('Fact: {0}'.format(c.m.subject))\n",
    "\n",
    "\n",
    "assert_fact('interests', { 'area': 'human-like-conversations', 'type': 'theory' })\n"
   ]
  }
 ],
 "metadata": {
  "colab": {
   "name": "ai_assigne.ipynb",
   "provenance": []
  },
  "kernelspec": {
   "display_name": "Python 3 (ipykernel)",
   "language": "python",
   "name": "python3"
  },
  "language_info": {
   "codemirror_mode": {
    "name": "ipython",
    "version": 3
   },
   "file_extension": ".py",
   "mimetype": "text/x-python",
   "name": "python",
   "nbconvert_exporter": "python",
   "pygments_lexer": "ipython3",
   "version": "3.9.6"
  }
 },
 "nbformat": 4,
 "nbformat_minor": 1
}
