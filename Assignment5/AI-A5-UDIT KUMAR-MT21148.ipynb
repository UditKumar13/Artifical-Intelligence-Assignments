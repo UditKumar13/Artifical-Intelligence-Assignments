{
 "cells": [
  {
   "cell_type": "code",
   "execution_count": 4,
   "id": "53db58cf",
   "metadata": {},
   "outputs": [
    {
     "name": "stderr",
     "output_type": "stream",
     "text": [
      "[nltk_data] Downloading package punkt to C:\\Users\\udit\n",
      "[nltk_data]     kumar\\AppData\\Roaming\\nltk_data...\n",
      "[nltk_data]   Package punkt is already up-to-date!\n"
     ]
    },
    {
     "name": "stdout",
     "output_type": "stream",
     "text": [
      "Which stream , or technology are you interested in persuing a careerI would like to make career in app development\n",
      "\\...Tokens are ... ['I', 'would', 'like', 'to', 'make', 'career', 'in', 'app', 'development']\n",
      "\n",
      "..word is.. I\n",
      "...stem is ... i\n",
      "\n",
      "..word is.. would\n",
      "...stem is ... would\n",
      "\n",
      "..word is.. like\n",
      "...stem is ... like\n",
      "\n",
      "..word is.. to\n",
      "...stem is ... to\n",
      "\n",
      "..word is.. make\n",
      "...stem is ... make\n",
      "\n",
      "..word is.. career\n",
      "...stem is ... career\n",
      "\n",
      "..word is.. in\n",
      "...stem is ... in\n",
      "\n",
      "..word is.. app\n",
      "...stem is ... app\n",
      "\n",
      "..word is.. development\n",
      "...stem is ... develop\n",
      "\n",
      ".. generated list is : ['i', 'would', 'like', 'to', 'make', 'career', 'in', 'app', 'develop']\n"
     ]
    }
   ],
   "source": [
    "import nltk\n",
    "#To tokenize the string \n",
    "from nltk.tokenize import word_tokenize\n",
    "from nltk.stem import PorterStemmer\n",
    "nltk.download('punkt')\n",
    "check_List=[]\n",
    "Interests=input(\"Which stream , or technology are you interested in persuing a career\")\n",
    "my_Token=word_tokenize(Interests)\n",
    "print(\"\\...Tokens are ...\", my_Token )\n",
    "port_Stem=PorterStemmer()\n",
    "# Printing the stem and the words generted by tokenizer\n",
    "for my_w in my_Token:\n",
    "    print(\"\\n..word is..\",my_w)\n",
    "    my_Stem=port_Stem.stem(my_w)\n",
    "    print(\"...stem is ...\", my_Stem)\n",
    "    check_List.append(my_Stem)\n",
    "print(\"\\n.. generated list is :\",check_List)\n",
    "f = open(\"make_new_Facts.pl\",'w')\n",
    "if \"career\" in check_List:\n",
    "    if \"app\" in check_List:\n",
    "        if \"develop\" in check_List:\n",
    "            f.write(\"check(appdevelopment).\")\n",
    "    if \"ai\" in check_List:    \n",
    "        f.write(\"check(ai).\")\n",
    "    # interested in biology, so we generate a fact on biology.\n",
    "    if \"biolog\" in check_List:\n",
    "        f.write(\"check(biology).\")\n",
    "\n",
    "f.close()\n",
    "\n",
    "\n"
   ]
  },
  {
   "cell_type": "code",
   "execution_count": null,
   "id": "89e5413e",
   "metadata": {},
   "outputs": [],
   "source": []
  }
 ],
 "metadata": {
  "kernelspec": {
   "display_name": "Python 3 (ipykernel)",
   "language": "python",
   "name": "python3"
  },
  "language_info": {
   "codemirror_mode": {
    "name": "ipython",
    "version": 3
   },
   "file_extension": ".py",
   "mimetype": "text/x-python",
   "name": "python",
   "nbconvert_exporter": "python",
   "pygments_lexer": "ipython3",
   "version": "3.9.6"
  }
 },
 "nbformat": 4,
 "nbformat_minor": 5
}
